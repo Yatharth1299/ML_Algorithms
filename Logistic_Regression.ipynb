{
  "nbformat": 4,
  "nbformat_minor": 0,
  "metadata": {
    "colab": {
      "provenance": [],
      "authorship_tag": "ABX9TyNzdJc/nYIImSd8rL0a/2Uw",
      "include_colab_link": true
    },
    "kernelspec": {
      "name": "python3",
      "display_name": "Python 3"
    },
    "language_info": {
      "name": "python"
    }
  },
  "cells": [
    {
      "cell_type": "markdown",
      "metadata": {
        "id": "view-in-github",
        "colab_type": "text"
      },
      "source": [
        "<a href=\"https://colab.research.google.com/github/Yatharth1299/ML_Algorithms/blob/main/Logistic_Regression.ipynb\" target=\"_parent\"><img src=\"https://colab.research.google.com/assets/colab-badge.svg\" alt=\"Open In Colab\"/></a>"
      ]
    },
    {
      "cell_type": "code",
      "source": [
        "# Problem Statement\n",
        "\n",
        "'''In an e-commerce company, the management wants to predict whether a customer\n",
        "will purchase a high-value product based on their age, time spent on the website,\n",
        " and whether they have added items to their cart. The goal is to optimize marketing\n",
        " strategies by targeting potential customers more effectively, thereby increasing sales and revenue.'''"
      ],
      "metadata": {
        "id": "LJCW0ME-c6j5"
      },
      "execution_count": null,
      "outputs": []
    },
    {
      "cell_type": "code",
      "execution_count": null,
      "metadata": {
        "id": "NeP3F4zDY1wz"
      },
      "outputs": [],
      "source": [
        "import numpy as np\n",
        "from sklearn.model_selection import train_test_split\n",
        "from sklearn.linear_model import LinearRegression\n"
      ]
    },
    {
      "cell_type": "markdown",
      "source": [
        "X=array([age,time spend on product,add to cart])\n",
        "y=array([add to cart])"
      ],
      "metadata": {
        "id": "mIPsN2QCcNQY"
      }
    },
    {
      "cell_type": "code",
      "source": [
        "X=np.array([[30,25,0],[20,30,1],[35,15,1],[40,20,0]])\n",
        "y=np.array([0,1,1,0])\n",
        "\n",
        "X_train,X_test,y_train,y_test=train_test_split(X,y,test_size=0.2,random_state=42)\n",
        "Model = LinearRegression()\n",
        "Model.fit(X_train,y_train)\n",
        "user_age=float(input('Enter age: '))\n",
        "user_time=float(input('Enter time: '))\n",
        "user_addtocart=int(input('Enter degree: '))\n",
        "user_input=np.array([[user_age,user_time,user_addtocart]])\n",
        "prediction=Model.predict(user_input)\n",
        "if prediction==1:\n",
        "  print('User will buy')\n",
        "else:\n",
        "  print('User will not buy')\n"
      ],
      "metadata": {
        "colab": {
          "base_uri": "https://localhost:8080/"
        },
        "id": "id-BhhFCZzWS",
        "outputId": "48a5653c-e2c7-41ff-b761-d99cdbda0577"
      },
      "execution_count": null,
      "outputs": [
        {
          "output_type": "stream",
          "name": "stdout",
          "text": [
            "Enter age: 26\n",
            "Enter salary: 26\n",
            "Enter degree: 1\n",
            "User will not buy\n"
          ]
        }
      ]
    },
    {
      "cell_type": "code",
      "source": [],
      "metadata": {
        "id": "1HDMxtwecAiW"
      },
      "execution_count": null,
      "outputs": []
    }
  ]
}