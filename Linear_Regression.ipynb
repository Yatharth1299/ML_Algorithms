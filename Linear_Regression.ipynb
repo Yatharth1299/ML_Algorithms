{
  "nbformat": 4,
  "nbformat_minor": 0,
  "metadata": {
    "colab": {
      "provenance": [],
      "authorship_tag": "ABX9TyODwDz7IEmAG3ZgBM9ss4Mr",
      "include_colab_link": true
    },
    "kernelspec": {
      "name": "python3",
      "display_name": "Python 3"
    },
    "language_info": {
      "name": "python"
    }
  },
  "cells": [
    {
      "cell_type": "markdown",
      "metadata": {
        "id": "view-in-github",
        "colab_type": "text"
      },
      "source": [
        "<a href=\"https://colab.research.google.com/github/Yatharth1299/ML_Algorithms/blob/main/Linear_Regression.ipynb\" target=\"_parent\"><img src=\"https://colab.research.google.com/assets/colab-badge.svg\" alt=\"Open In Colab\"/></a>"
      ]
    },
    {
      "cell_type": "code",
      "source": [
        "'''Problem Statement:\n",
        "\"Predict a student's final exam score based on the number of hours they study.\"''"
      ],
      "metadata": {
        "id": "dtsDdMXi_-t6"
      },
      "execution_count": null,
      "outputs": []
    },
    {
      "cell_type": "code",
      "execution_count": null,
      "metadata": {
        "id": "Dhf9I3mliNrw",
        "colab": {
          "base_uri": "https://localhost:8080/"
        },
        "outputId": "2b31fd74-3cd0-4072-c8c7-3b062b94655f"
      },
      "outputs": [
        {
          "output_type": "stream",
          "name": "stdout",
          "text": [
            "Enter the hours of study: 10\n",
            "Exam Score is[101.71428571] \n"
          ]
        },
        {
          "output_type": "stream",
          "name": "stderr",
          "text": [
            "/usr/local/lib/python3.11/dist-packages/sklearn/utils/validation.py:2739: UserWarning: X does not have valid feature names, but LinearRegression was fitted with feature names\n",
            "  warnings.warn(\n"
          ]
        }
      ],
      "source": [
        "import pandas as pd\n",
        "import numpy as np\n",
        "import matplotlib as plt\n",
        "from sklearn.model_selection import train_test_split\n",
        "from sklearn.linear_model import LinearRegression\n",
        "\n",
        "\n",
        "dataset={'Hours_study': [1,2,3,4,5,6,7,8,9],'Exam_score' : [50,61,66,70,76,80,85,90,95]}\n",
        "df=pd.DataFrame(dataset)\n",
        "\n",
        "# Now Feature Extraction Extract saperatly may be have more columns but only take relevant data\n",
        "\n",
        "X=df[['Hours_study']]\n",
        "y=df[['Exam_score']]\n",
        "\n",
        "\n",
        "# now train and test train text ratio should be 80:20 or 90:10 , taking some portion from the dataset and train and test\n",
        "X_train,X_test,y_train,y_test=train_test_split(X,y,test_size=0.2,random_state=42)\n",
        "Model=LinearRegression()\n",
        "Model.fit(X_train,y_train)\n",
        "user_input=float(input(\"Enter the hours of study: \"))\n",
        "predicted_score=Model.predict([[user_input]])\n",
        "print(f\"Exam Score is{predicted_score[0]:} \")"
      ]
    }
  ]
}